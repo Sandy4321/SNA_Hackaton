{
 "cells": [
  {
   "cell_type": "code",
   "execution_count": 1,
   "metadata": {
    "collapsed": false
   },
   "outputs": [],
   "source": [
    "import gc\n",
    "gc.collect()\n",
    "import os\n",
    "from os.path import isfile, join\n",
    "\n",
    "import pandas as pd\n",
    "import numpy as np\n"
   ]
  },
  {
   "cell_type": "code",
   "execution_count": 2,
   "metadata": {
    "collapsed": false
   },
   "outputs": [],
   "source": [
    "## initalizing parquet\n",
    "\n",
    "import parquet\n",
    "import csv\n",
    "import StringIO\n",
    "\n",
    "class Options(object):\n",
    "\n",
    "    def __init__(self, col=None, format='csv', no_headers=True, limit=-1):\n",
    "        self.col = col\n",
    "        self.format = format\n",
    "        self.no_headers = no_headers\n",
    "        self.limit = limit\n",
    "\n",
    "\n",
    "def read_parquet_data (filename):\n",
    "    \n",
    "    actual_raw_data = StringIO.StringIO()\n",
    "    parquet.dump(filename, Options(format='csv'), out=actual_raw_data)\n",
    "    actual_raw_data.seek(0, 0)\n",
    "    actual_data = list(csv.reader(actual_raw_data, delimiter='\\t'))\n",
    "    \n",
    "    return actual_data"
   ]
  },
  {
   "cell_type": "code",
   "execution_count": 20,
   "metadata": {
    "collapsed": false
   },
   "outputs": [],
   "source": [
    "## read graph data\n",
    "\n",
    "import time\n",
    "import gzip\n",
    "from multiprocessing import Pool\n",
    "\n",
    "\n",
    "##GRAPH_DIR  = \"/home/sirorezka/python_proj/SNA_Hackaton/Data_short/trainGraph\"\n",
    "N_PROCS = 8\n",
    "\n",
    "\n",
    "# aprx 8 minutes\n",
    "def read_graph_files (gz_file):\n",
    "    \n",
    "    graph_data = []\n",
    "    \n",
    "    with gzip.open(os.path.join(GRAPH_DIR,gz_file), 'rb') as f:\n",
    "        for line in f:\n",
    "            data = line.split(\"\\t\")\n",
    "            user = data[0]\n",
    "            all_friends = line.split(\"\\t\")[1].replace(\"{(\",\"\").replace(\")}\", \"\").replace(\"\\n\",\"\").split(\"),(\")\n",
    "            #all_friends = map (lambda x: [user] + x.split(\",\"),all_friends)\n",
    "            \n",
    "            # to count number of users\n",
    "            all_friends = [[user , len(all_friends)]]\n",
    "            graph_data += all_friends \n",
    "    \n",
    "    print \"finished file: \",gz_file\n",
    "    \n",
    "    graph_data = pd.DataFrame(graph_data, dtype=\"int32\")\n",
    "    return graph_data\n",
    "\n",
    "def read_graph_files_par ():\n",
    "    \n",
    "        tic = time.time()\n",
    "        gz_files = [f for f in os.listdir(GRAPH_DIR) if f.endswith('.gz')]\n",
    "        print (gz_files)\n",
    "        pool = Pool(processes = N_PROCS)\n",
    "        graph_data_full = pool.map(read_graph_files, gz_files)\n",
    "        pool.close()\n",
    "        pool.join()            \n",
    "        toc = time.time() - tic\n",
    "        print \"elapsed time\", toc\n",
    "        \n",
    "        #graph_data_full = pd.DataFrame(graph_data_full)\n",
    "        return graph_data_full"
   ]
  },
  {
   "cell_type": "code",
   "execution_count": 31,
   "metadata": {
    "collapsed": false,
    "scrolled": true
   },
   "outputs": [
    {
     "name": "stdout",
     "output_type": "stream",
     "text": [
      "['part-v008-o000-r-00000.gz']\n",
      "elapsed time 5.11612200737\n",
      "finished file:  part-v008-o000-r-00000.gz\n"
     ]
    }
   ],
   "source": [
    "graph_data = read_graph_files_par()\n",
    "\n",
    "tt = pd.DataFrame(graph_data[0])"
   ]
  },
  {
   "cell_type": "code",
   "execution_count": 61,
   "metadata": {
    "collapsed": false,
    "scrolled": true
   },
   "outputs": [
    {
     "name": "stdout",
     "output_type": "stream",
     "text": [
      "(62702, 2)\n"
     ]
    },
    {
     "data": {
      "image/png": "[encoded data removed]",
      "text/plain": [
       "<matplotlib.figure.Figure at 0x7f6f8a96e150>"
      ]
     },
     "metadata": {},
     "output_type": "display_data"
    }
   ],
   "source": [
    "import matplotlib.pyplot as plt\n",
    "%matplotlib inline  \n",
    "\n",
    "plt.hist(np.log(tt.iloc[:,1]))\n",
    "plt.show\n",
    "print (tt.shape)"
   ]
  },
  {
   "cell_type": "code",
   "execution_count": 4,
   "metadata": {
    "collapsed": false
   },
   "outputs": [],
   "source": [
    "DEMO_PATH = \"/home/sirorezka/python_proj/SNA_Hackaton/Data/demography\"\n",
    "demo_files = [f for f in os.listdir(DEMO_PATH) ]\n",
    "tt = list(map (lambda x: x not in ['.pig_schema','_SUCCESS','.pig_header'],demo_files))\n",
    "demo_files = pd.DataFrame(demo_files)\n",
    "demo_files = demo_files.loc[tt]\n",
    "demo_files = [k[0] for k in demo_files[:].values.tolist()]\n"
   ]
  },
  {
   "cell_type": "code",
   "execution_count": 5,
   "metadata": {
    "collapsed": false
   },
   "outputs": [],
   "source": [
    "def read_demo_data(demo_files):\n",
    "    \n",
    "    #print (demo_files)\n",
    "    demo_data = []\n",
    "    for demo_file in demo_files:\n",
    "        print demo_file\n",
    "        with open(os.path.join(DEMO_PATH,demo_file), 'rb') as f:\n",
    "            for line in f:\n",
    "                data = line.replace(\"\\n\",\"\").split(\"\\t\")\n",
    "                demo_data += [data] \n",
    "\n",
    "    print \"finished all files\"\n",
    "    \n",
    "    demo_data = pd.DataFrame(demo_data, dtype=\"int32\")\n",
    "    demo_data.columns = [\"userId\",\"create_date\",\"birth_date\",\"gender\",\"ID_country\",\"ID_Location\",\"loginRegion\"]\n",
    "    return demo_data\n",
    "\n"
   ]
  },
  {
   "cell_type": "code",
   "execution_count": 6,
   "metadata": {
    "collapsed": false
   },
   "outputs": [
    {
     "name": "stdout",
     "output_type": "stream",
     "text": [
      "part-v003-o000-r-00012\n",
      "part-v003-o000-r-00011\n",
      "part-v003-o000-r-00003\n",
      "part-v003-o000-r-00008\n",
      "part-v003-o000-r-00000\n",
      "part-v003-o000-r-00001\n",
      "part-v003-o000-r-00015\n",
      "part-v003-o000-r-00009\n",
      "part-v003-o000-r-00013\n",
      "part-v003-o000-r-00006\n",
      "part-v003-o000-r-00005\n",
      "part-v003-o000-r-00004\n",
      "part-v003-o000-r-00014\n",
      "part-v003-o000-r-00010\n",
      "part-v003-o000-r-00002\n",
      "part-v003-o000-r-00007\n",
      "finished all files\n"
     ]
    }
   ],
   "source": [
    "demo_data = read_demo_data(demo_files)\n"
   ]
  },
  {
   "cell_type": "code",
   "execution_count": 7,
   "metadata": {
    "collapsed": false
   },
   "outputs": [
    {
     "data": {
      "text/html": [
       "<div>\n",
       "<table border=\"1\" class=\"dataframe\">\n",
       "  <thead>\n",
       "    <tr style=\"text-align: right;\">\n",
       "      <th></th>\n",
       "      <th>userId</th>\n",
       "      <th>create_date</th>\n",
       "      <th>birth_date</th>\n",
       "      <th>gender</th>\n",
       "      <th>ID_country</th>\n",
       "      <th>ID_Location</th>\n",
       "      <th>loginRegion</th>\n",
       "    </tr>\n",
       "  </thead>\n",
       "  <tbody>\n",
       "    <tr>\n",
       "      <th>count</th>\n",
       "      <td>1002816.000000</td>\n",
       "      <td>1.002816e+06</td>\n",
       "      <td>1002816.000000</td>\n",
       "      <td>1002816.000000</td>\n",
       "      <td>1.002816e+06</td>\n",
       "      <td>1002816.000000</td>\n",
       "      <td>1.002816e+06</td>\n",
       "    </tr>\n",
       "    <tr>\n",
       "      <th>mean</th>\n",
       "      <td>32944520.068690</td>\n",
       "      <td>1.307905e+06</td>\n",
       "      <td>4906.555356</td>\n",
       "      <td>1.469874</td>\n",
       "      <td>1.823114e+09</td>\n",
       "      <td>5655742.863679</td>\n",
       "      <td>1.703598e+03</td>\n",
       "    </tr>\n",
       "    <tr>\n",
       "      <th>std</th>\n",
       "      <td>18991416.748978</td>\n",
       "      <td>1.234663e+09</td>\n",
       "      <td>6015.250529</td>\n",
       "      <td>0.499092</td>\n",
       "      <td>5.339787e+07</td>\n",
       "      <td>8553884.665645</td>\n",
       "      <td>1.682588e+06</td>\n",
       "    </tr>\n",
       "    <tr>\n",
       "      <th>min</th>\n",
       "      <td>45.000000</td>\n",
       "      <td>-2.147480e+09</td>\n",
       "      <td>-25567.000000</td>\n",
       "      <td>1.000000</td>\n",
       "      <td>4.461279e+08</td>\n",
       "      <td>70.000000</td>\n",
       "      <td>0.000000e+00</td>\n",
       "    </tr>\n",
       "    <tr>\n",
       "      <th>25%</th>\n",
       "      <td>16442421.250000</td>\n",
       "      <td>-1.067296e+09</td>\n",
       "      <td>3066.000000</td>\n",
       "      <td>1.000000</td>\n",
       "      <td>1.824599e+09</td>\n",
       "      <td>1739720.000000</td>\n",
       "      <td>0.000000e+00</td>\n",
       "    </tr>\n",
       "    <tr>\n",
       "      <th>50%</th>\n",
       "      <td>32937492.500000</td>\n",
       "      <td>-1.943580e+06</td>\n",
       "      <td>6264.000000</td>\n",
       "      <td>1.000000</td>\n",
       "      <td>1.824599e+09</td>\n",
       "      <td>3385314.000000</td>\n",
       "      <td>3.000000e+00</td>\n",
       "    </tr>\n",
       "    <tr>\n",
       "      <th>75%</th>\n",
       "      <td>49407543.250000</td>\n",
       "      <td>1.073568e+09</td>\n",
       "      <td>8586.000000</td>\n",
       "      <td>2.000000</td>\n",
       "      <td>1.827297e+09</td>\n",
       "      <td>4273169.000000</td>\n",
       "      <td>2.200000e+01</td>\n",
       "    </tr>\n",
       "    <tr>\n",
       "      <th>max</th>\n",
       "      <td>65746491.000000</td>\n",
       "      <td>2.147481e+09</td>\n",
       "      <td>31104.000000</td>\n",
       "      <td>2.000000</td>\n",
       "      <td>2.044172e+09</td>\n",
       "      <td>44687409.000000</td>\n",
       "      <td>1.684956e+09</td>\n",
       "    </tr>\n",
       "  </tbody>\n",
       "</table>\n",
       "</div>"
      ],
      "text/plain": [
       "                userId   create_date      birth_date          gender  \\\n",
       "count   1002816.000000  1.002816e+06  1002816.000000  1002816.000000   \n",
       "mean   32944520.068690  1.307905e+06     4906.555356        1.469874   \n",
       "std    18991416.748978  1.234663e+09     6015.250529        0.499092   \n",
       "min          45.000000 -2.147480e+09   -25567.000000        1.000000   \n",
       "25%    16442421.250000 -1.067296e+09     3066.000000        1.000000   \n",
       "50%    32937492.500000 -1.943580e+06     6264.000000        1.000000   \n",
       "75%    49407543.250000  1.073568e+09     8586.000000        2.000000   \n",
       "max    65746491.000000  2.147481e+09    31104.000000        2.000000   \n",
       "\n",
       "         ID_country      ID_Location   loginRegion  \n",
       "count  1.002816e+06   1002816.000000  1.002816e+06  \n",
       "mean   1.823114e+09   5655742.863679  1.703598e+03  \n",
       "std    5.339787e+07   8553884.665645  1.682588e+06  \n",
       "min    4.461279e+08        70.000000  0.000000e+00  \n",
       "25%    1.824599e+09   1739720.000000  0.000000e+00  \n",
       "50%    1.824599e+09   3385314.000000  3.000000e+00  \n",
       "75%    1.827297e+09   4273169.000000  2.200000e+01  \n",
       "max    2.044172e+09  44687409.000000  1.684956e+09  "
      ]
     },
     "execution_count": 7,
     "metadata": {},
     "output_type": "execute_result"
    }
   ],
   "source": [
    "demo_data.describe()"
   ]
  },
  {
   "cell_type": "code",
   "execution_count": 49,
   "metadata": {
    "collapsed": false
   },
   "outputs": [
    {
     "ename": "AttributeError",
     "evalue": "'Series' object has no attribute 'summary'",
     "output_type": "error",
     "traceback": [
      "\u001b[1;31m---------------------------------------------------------------------------\u001b[0m",
      "\u001b[1;31mAttributeError\u001b[0m                            Traceback (most recent call last)",
      "\u001b[1;32m<ipython-input-49-0e6103ddbc1b>\u001b[0m in \u001b[0;36m<module>\u001b[1;34m()\u001b[0m\n\u001b[0;32m      2\u001b[0m \u001b[0mget_ipython\u001b[0m\u001b[1;33m(\u001b[0m\u001b[1;33m)\u001b[0m\u001b[1;33m.\u001b[0m\u001b[0mmagic\u001b[0m\u001b[1;33m(\u001b[0m\u001b[1;34mu'matplotlib inline'\u001b[0m\u001b[1;33m)\u001b[0m\u001b[1;33m\u001b[0m\u001b[0m\n\u001b[0;32m      3\u001b[0m \u001b[1;33m\u001b[0m\u001b[0m\n\u001b[1;32m----> 4\u001b[1;33m \u001b[0mdemo_data\u001b[0m\u001b[1;33m[\u001b[0m\u001b[1;34m'loginRegion'\u001b[0m\u001b[1;33m]\u001b[0m\u001b[1;33m.\u001b[0m\u001b[0msummary\u001b[0m\u001b[1;33m(\u001b[0m\u001b[1;33m)\u001b[0m\u001b[1;33m\u001b[0m\u001b[0m\n\u001b[0m",
      "\u001b[1;32m/home/sirorezka/anaconda2/envs/py27/lib/python2.7/site-packages/pandas/core/generic.pyc\u001b[0m in \u001b[0;36m__getattr__\u001b[1;34m(self, name)\u001b[0m\n\u001b[0;32m   2358\u001b[0m                 \u001b[1;32mreturn\u001b[0m \u001b[0mself\u001b[0m\u001b[1;33m[\u001b[0m\u001b[0mname\u001b[0m\u001b[1;33m]\u001b[0m\u001b[1;33m\u001b[0m\u001b[0m\n\u001b[0;32m   2359\u001b[0m             raise AttributeError(\"'%s' object has no attribute '%s'\" %\n\u001b[1;32m-> 2360\u001b[1;33m                                  (type(self).__name__, name))\n\u001b[0m\u001b[0;32m   2361\u001b[0m \u001b[1;33m\u001b[0m\u001b[0m\n\u001b[0;32m   2362\u001b[0m     \u001b[1;32mdef\u001b[0m \u001b[0m__setattr__\u001b[0m\u001b[1;33m(\u001b[0m\u001b[0mself\u001b[0m\u001b[1;33m,\u001b[0m \u001b[0mname\u001b[0m\u001b[1;33m,\u001b[0m \u001b[0mvalue\u001b[0m\u001b[1;33m)\u001b[0m\u001b[1;33m:\u001b[0m\u001b[1;33m\u001b[0m\u001b[0m\n",
      "\u001b[1;31mAttributeError\u001b[0m: 'Series' object has no attribute 'summary'"
     ]
    }
   ],
   "source": [
    "import matplotlib.pyplot as plt\n",
    "%matplotlib inline  \n",
    "\n",
    "demo_data['loginRegion'].summary()"
   ]
  },
  {
   "cell_type": "code",
   "execution_count": null,
   "metadata": {
    "collapsed": true
   },
   "outputs": [],
   "source": []
  }
 ],
 "metadata": {
  "kernelspec": {
   "display_name": "Python 2",
   "language": "python",
   "name": "python2"
  },
  "language_info": {
   "codemirror_mode": {
    "name": "ipython",
    "version": 2
   },
   "file_extension": ".py",
   "mimetype": "text/x-python",
   "name": "python",
   "nbconvert_exporter": "python",
   "pygments_lexer": "ipython2",
   "version": "2.7.11"
  }
 },
 "nbformat": 4,
 "nbformat_minor": 0
}
